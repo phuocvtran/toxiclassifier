{
 "cells": [
  {
   "cell_type": "markdown",
   "metadata": {},
   "source": [
    "# (1) Bài toán"
   ]
  },
  {
   "cell_type": "markdown",
   "metadata": {},
   "source": [
    "Nhận dạng bình luận độc hại (toxic comment classification). Bình luận độc hại là những bình luận chửi tục, phân biệt đối xử, ....  \n",
    "Đầu vào là một bình luận đầu ra sẽ là một nhãn 0 hoặc 1 với 1 là comment toxic và 0 là bình thường."
   ]
  },
  {
   "cell_type": "markdown",
   "metadata": {},
   "source": [
    "# (2) EDA"
   ]
  },
  {
   "cell_type": "code",
   "execution_count": 1,
   "metadata": {},
   "outputs": [],
   "source": [
    "import pandas as pd\n",
    "from seaborn import countplot"
   ]
  },
  {
   "cell_type": "code",
   "execution_count": 2,
   "metadata": {},
   "outputs": [
    {
     "data": {
      "text/html": [
       "<div>\n",
       "<style scoped>\n",
       "    .dataframe tbody tr th:only-of-type {\n",
       "        vertical-align: middle;\n",
       "    }\n",
       "\n",
       "    .dataframe tbody tr th {\n",
       "        vertical-align: top;\n",
       "    }\n",
       "\n",
       "    .dataframe thead th {\n",
       "        text-align: right;\n",
       "    }\n",
       "</style>\n",
       "<table border=\"1\" class=\"dataframe\">\n",
       "  <thead>\n",
       "    <tr style=\"text-align: right;\">\n",
       "      <th></th>\n",
       "      <th>id</th>\n",
       "      <th>comment</th>\n",
       "      <th>is_toxic</th>\n",
       "    </tr>\n",
       "  </thead>\n",
       "  <tbody>\n",
       "    <tr>\n",
       "      <th>12671</th>\n",
       "      <td>12671</td>\n",
       "      <td>Bảo Bảo hum đúng là như lozz thật xem clip tắt...</td>\n",
       "      <td>1</td>\n",
       "    </tr>\n",
       "    <tr>\n",
       "      <th>12672</th>\n",
       "      <td>12672</td>\n",
       "      <td>Trần Hà hên là mày khôn ra</td>\n",
       "      <td>0</td>\n",
       "    </tr>\n",
       "    <tr>\n",
       "      <th>12673</th>\n",
       "      <td>12673</td>\n",
       "      <td>Bích Huyền chuyện dì cũng có thể xảy ra</td>\n",
       "      <td>0</td>\n",
       "    </tr>\n",
       "    <tr>\n",
       "      <th>12674</th>\n",
       "      <td>12674</td>\n",
       "      <td>Nguyễn Trân Trân dm t nhìn giống m vl :))</td>\n",
       "      <td>1</td>\n",
       "    </tr>\n",
       "    <tr>\n",
       "      <th>12675</th>\n",
       "      <td>12675</td>\n",
       "      <td>Nguyễn Trang mới đọc nãy</td>\n",
       "      <td>0</td>\n",
       "    </tr>\n",
       "  </tbody>\n",
       "</table>\n",
       "</div>"
      ],
      "text/plain": [
       "          id                                            comment  is_toxic\n",
       "12671  12671  Bảo Bảo hum đúng là như lozz thật xem clip tắt...         1\n",
       "12672  12672                         Trần Hà hên là mày khôn ra         0\n",
       "12673  12673            Bích Huyền chuyện dì cũng có thể xảy ra         0\n",
       "12674  12674          Nguyễn Trân Trân dm t nhìn giống m vl :))         1\n",
       "12675  12675                           Nguyễn Trang mới đọc nãy         0"
      ]
     },
     "execution_count": 2,
     "metadata": {},
     "output_type": "execute_result"
    }
   ],
   "source": [
    "raw_data = pd.read_csv(\"data/raw_data.csv\")\n",
    "raw_data.tail()"
   ]
  },
  {
   "cell_type": "markdown",
   "metadata": {},
   "source": [
    "Dữ liệu thu được gồm 12675 bình luận. Gồm các trường id, comment, is_toxic."
   ]
  },
  {
   "cell_type": "code",
   "execution_count": 3,
   "metadata": {},
   "outputs": [
    {
     "name": "stdout",
     "output_type": "stream",
     "text": [
      "['Việt Trinh', 'Hương Gà k ck mình hơn mình 5t. Mệt lắm =)))))', '👉Nhận order mua hộ vận chuyện hàng Trung - Việt 😊\\n👉 Hàng nội địa giá tận gốc.\\n👉Chuyên sỉ (hàng có sẵn)\\n\\n😘Like Trang https://m.facebook.com/101837188158750/photos/a.101838121491990/103918364617299/?type=3&source=44 để cập nhật những món khoái khẩu nhé 🥰']\n"
     ]
    }
   ],
   "source": [
    "ex = [raw_data.loc[98].comment, raw_data.loc[108].comment, raw_data.loc[1964].comment]\n",
    "print(ex)"
   ]
  },
  {
   "cell_type": "markdown",
   "metadata": {},
   "source": [
    "Dữ liệu comment có chứa tên riêng, từ viết tắt, emoji, url, sai chính tả, thiếu dấu, teencode."
   ]
  },
  {
   "cell_type": "code",
   "execution_count": 4,
   "metadata": {},
   "outputs": [
    {
     "data": {
      "text/plain": [
       "<matplotlib.axes._subplots.AxesSubplot at 0x7fb8d4bb2350>"
      ]
     },
     "execution_count": 4,
     "metadata": {},
     "output_type": "execute_result"
    },
    {
     "data": {
      "image/png": "[encoded data removed]",
      "text/plain": [
       "<Figure size 432x288 with 1 Axes>"
      ]
     },
     "metadata": {
      "needs_background": "light"
     },
     "output_type": "display_data"
    }
   ],
   "source": [
    "countplot(raw_data.is_toxic)"
   ]
  },
  {
   "cell_type": "code",
   "execution_count": 5,
   "metadata": {},
   "outputs": [
    {
     "name": "stdout",
     "output_type": "stream",
     "text": [
      "Các bình luận độc hại chiếm 14.9% tổng số bình luận.\n"
     ]
    }
   ],
   "source": [
    "num_0, num_1 = raw_data.is_toxic.value_counts().values\n",
    "print(f\"Các bình luận độc hại chiếm {round(num_1 / (num_0 + num_1) * 100, 2)}% tổng số bình luận.\")"
   ]
  },
  {
   "cell_type": "markdown",
   "metadata": {},
   "source": [
    "## Word cloud"
   ]
  },
  {
   "cell_type": "markdown",
   "metadata": {},
   "source": [
    "Word cloud sau khi đã qua tiền xử lý."
   ]
  },
  {
   "cell_type": "markdown",
   "metadata": {},
   "source": [
    "![Clean cloud](cloud/clean_cloud.png)\n",
    "![Toxic cloud](cloud/toxic_cloud.png)"
   ]
  },
  {
   "cell_type": "markdown",
   "metadata": {},
   "source": [
    "# (3) Modeling"
   ]
  },
  {
   "cell_type": "markdown",
   "metadata": {},
   "source": [
    "## Chia dữ liệu"
   ]
  },
  {
   "cell_type": "markdown",
   "metadata": {},
   "source": [
    "Chia dữ liệu ra làm 3 bộ train/valid/test theo tỉ lệ 6/2/2.  \n",
    "Đầu tiên chia train (80%) và test (20%) theo bộ dữ liệu đầy đủ. Sau đó chia valid 25% từ bộ train."
   ]
  },
  {
   "cell_type": "code",
   "execution_count": 6,
   "metadata": {},
   "outputs": [],
   "source": [
    "from sklearn.model_selection import train_test_split"
   ]
  },
  {
   "cell_type": "code",
   "execution_count": 7,
   "metadata": {},
   "outputs": [],
   "source": [
    "X = raw_data.drop([\"is_toxic\", \"id\"], axis=1)\n",
    "y = raw_data.is_toxic"
   ]
  },
  {
   "cell_type": "code",
   "execution_count": 8,
   "metadata": {},
   "outputs": [],
   "source": [
    "X_train, X_test, y_train, y_test = train_test_split(X, y, test_size=0.2, random_state=41, stratify=y)\n",
    "X_train, X_valid, y_train, y_valid = train_test_split(X_train, y_train, test_size=0.25, \n",
    "                                                      random_state=41, stratify=y_train)"
   ]
  },
  {
   "cell_type": "code",
   "execution_count": 9,
   "metadata": {},
   "outputs": [
    {
     "data": {
      "text/plain": [
       "<matplotlib.axes._subplots.AxesSubplot at 0x7fb8a8ce6cd0>"
      ]
     },
     "execution_count": 9,
     "metadata": {},
     "output_type": "execute_result"
    },
    {
     "data": {
      "image/png": "[encoded data removed]",
      "text/plain": [
       "<Figure size 432x288 with 1 Axes>"
      ]
     },
     "metadata": {
      "needs_background": "light"
     },
     "output_type": "display_data"
    }
   ],
   "source": [
    "dftr = pd.DataFrame(data={\"is_toxic\": y_train, \"set\": [\"train\"] * len(y_train)})\n",
    "dfva = pd.DataFrame(data={\"is_toxic\": y_valid, \"set\": [\"valid\"] * len(y_valid)})\n",
    "dfte = pd.DataFrame(data={\"is_toxic\": y_test, \"set\": [\"test\"] * len(y_test)})\n",
    "frame = [dftr, dfva, dfte]\n",
    "ess = pd.concat(frame)\n",
    "countplot(data=ess, hue=\"set\", x=\"is_toxic\")"
   ]
  },
  {
   "cell_type": "markdown",
   "metadata": {},
   "source": [
    "## Tiền xử lý"
   ]
  },
  {
   "cell_type": "markdown",
   "metadata": {},
   "source": [
    "Tiền xử lý bao gồm các việc:\n",
    "* Bỏ khoảng trắng thừa, tên riêng, số, chữ dài hơn chữ \"nghiêng\", url, ký tự đặc biệt, stop word\n",
    "* Rút gọn các chữ lặp lại VD: haizzzzzz -> haiz\n",
    "* Tokenize VD: học sinh -> học_sinh"
   ]
  },
  {
   "cell_type": "code",
   "execution_count": 10,
   "metadata": {},
   "outputs": [],
   "source": [
    "from preproc.preprocess import preproc"
   ]
  },
  {
   "cell_type": "code",
   "execution_count": 11,
   "metadata": {},
   "outputs": [],
   "source": [
    "X_train_cooked = preproc(X_train)\n",
    "X_valid_cooked = preproc(X_valid)\n",
    "X_test_cooked = preproc(X_test)"
   ]
  },
  {
   "cell_type": "markdown",
   "metadata": {},
   "source": [
    "## Tf-idf"
   ]
  },
  {
   "cell_type": "markdown",
   "metadata": {},
   "source": [
    "Term frequency inverse document frequency được tính bằng công thức:  \n",
    "$tf-idf(t, d) = tf(t, d) * idf(t)$\n",
    "\n",
    "*t là chữ và d là bình luận.*"
   ]
  },
  {
   "cell_type": "markdown",
   "metadata": {},
   "source": [
    "Theo sklearn **tf(t, d)** được tính bằng **CountVectorizer**. "
   ]
  },
  {
   "cell_type": "code",
   "execution_count": 12,
   "metadata": {},
   "outputs": [],
   "source": [
    "from sklearn.feature_extraction.text import CountVectorizer, TfidfTransformer"
   ]
  },
  {
   "cell_type": "code",
   "execution_count": 13,
   "metadata": {},
   "outputs": [
    {
     "data": {
      "text/plain": [
       "['chơi', 'học', 'tôi', 'đi']"
      ]
     },
     "execution_count": 13,
     "metadata": {},
     "output_type": "execute_result"
    }
   ],
   "source": [
    "corpus = [\"tôi đi học\", \"tôi đi chơi\"]\n",
    "exvec = CountVectorizer()\n",
    "exvec.fit(corpus)\n",
    "exvec.get_feature_names()"
   ]
  },
  {
   "cell_type": "code",
   "execution_count": 14,
   "metadata": {},
   "outputs": [
    {
     "data": {
      "text/plain": [
       "array([[0, 1, 1, 1],\n",
       "       [1, 0, 1, 1]])"
      ]
     },
     "execution_count": 14,
     "metadata": {},
     "output_type": "execute_result"
    }
   ],
   "source": [
    "ex = exvec.transform(corpus).toarray()\n",
    "ex"
   ]
  },
  {
   "cell_type": "markdown",
   "metadata": {},
   "source": [
    "**smooth_idf=False**  \n",
    "$ idf(t) = log(\\frac{n}{df(t)}) + 1 $\n",
    "\n",
    "**smooth_idf=True**  \n",
    "$ idf(t) = log(\\frac{n + 1}{df(t) + 1}) + 1 $\n",
    "\n",
    "\n",
    "*n là tổng số lượng các bình luận*  \n",
    "*df(t) là số bình luận trong đó có chứa t*"
   ]
  },
  {
   "cell_type": "code",
   "execution_count": 15,
   "metadata": {},
   "outputs": [
    {
     "data": {
      "text/plain": [
       "array([1.40546511, 1.40546511, 1.        , 1.        ])"
      ]
     },
     "execution_count": 15,
     "metadata": {},
     "output_type": "execute_result"
    }
   ],
   "source": [
    "transformer = TfidfTransformer()\n",
    "transformer.fit(ex)\n",
    "transformer.idf_"
   ]
  },
  {
   "cell_type": "markdown",
   "metadata": {},
   "source": [
    "$tf-idf(\\text{\"tôi đi học\"}) = [0 * 1.41,  1 * 1.41,  1 * 1,  1 * 1] = [0. ,  1.41,  1,  1]$"
   ]
  },
  {
   "cell_type": "markdown",
   "metadata": {},
   "source": [
    "Thư viện sklearn sau đó thực hiện **normalization** trên vector tf-idf bằng công thức:  \n",
    "$v_{norm} = \\frac{v}{\\sqrt(v_{1}^{2} + v_{2}^{2} + ... + v_{n}^{2})} = [0., 0.7, 0.5, 0.5]$"
   ]
  },
  {
   "cell_type": "code",
   "execution_count": 16,
   "metadata": {},
   "outputs": [
    {
     "data": {
      "text/plain": [
       "array([[0.        , 0.70490949, 0.50154891, 0.50154891],\n",
       "       [0.70490949, 0.        , 0.50154891, 0.50154891]])"
      ]
     },
     "execution_count": 16,
     "metadata": {},
     "output_type": "execute_result"
    }
   ],
   "source": [
    "transformer.transform(ex).toarray()"
   ]
  },
  {
   "cell_type": "markdown",
   "metadata": {},
   "source": [
    "## Thực hiện chuyển đổi sang tf-idf"
   ]
  },
  {
   "cell_type": "markdown",
   "metadata": {},
   "source": [
    "Trong sklearn có TfidfVectorizer tương đương với việc thực hiện CountVectorizer sau đó TfidfTransformer."
   ]
  },
  {
   "cell_type": "code",
   "execution_count": 17,
   "metadata": {},
   "outputs": [],
   "source": [
    "from sklearn.feature_extraction.text import TfidfVectorizer"
   ]
  },
  {
   "cell_type": "code",
   "execution_count": 18,
   "metadata": {},
   "outputs": [
    {
     "data": {
      "text/plain": [
       "TfidfVectorizer(analyzer='word', binary=False, decode_error='strict',\n",
       "        dtype=<class 'numpy.float64'>, encoding='utf-8', input='content',\n",
       "        lowercase=True, max_df=1.0, max_features=7000, min_df=1,\n",
       "        ngram_range=(1, 3), norm='l2', preprocessor=None, smooth_idf=True,\n",
       "        stop_words=None, strip_accents=None, sublinear_tf=False,\n",
       "        token_pattern='(?u)\\\\b\\\\w\\\\w+\\\\b', tokenizer=None, use_idf=True,\n",
       "        vocabulary=None)"
      ]
     },
     "execution_count": 18,
     "metadata": {},
     "output_type": "execute_result"
    }
   ],
   "source": [
    "corpus = X_train_cooked.comment.values\n",
    "vectorizer = TfidfVectorizer(ngram_range=(1, 3), max_features=7000)\n",
    "vectorizer.fit(corpus)"
   ]
  },
  {
   "cell_type": "code",
   "execution_count": 19,
   "metadata": {},
   "outputs": [],
   "source": [
    "X_train_vec = vectorizer.transform(corpus).toarray()\n",
    "X_valid_vec = vectorizer.transform(X_valid_cooked.comment.values).toarray()\n",
    "X_test_vec = vectorizer.transform(X_test_cooked.comment.values).toarray()\n",
    "y_train = y_train.values\n",
    "y_valid = y_valid.values\n",
    "y_test = y_test.values"
   ]
  },
  {
   "cell_type": "markdown",
   "metadata": {},
   "source": [
    "## Logistic Regression"
   ]
  },
  {
   "cell_type": "code",
   "execution_count": 20,
   "metadata": {},
   "outputs": [],
   "source": [
    "from sklearn.linear_model import LogisticRegression"
   ]
  },
  {
   "cell_type": "code",
   "execution_count": 21,
   "metadata": {},
   "outputs": [
    {
     "data": {
      "text/plain": [
       "LogisticRegression(C=1.0, class_weight=None, dual=False, fit_intercept=True,\n",
       "          intercept_scaling=1, max_iter=100, multi_class='warn',\n",
       "          n_jobs=None, penalty='l2', random_state=None, solver='liblinear',\n",
       "          tol=0.0001, verbose=0, warm_start=False)"
      ]
     },
     "execution_count": 21,
     "metadata": {},
     "output_type": "execute_result"
    }
   ],
   "source": [
    "lg = LogisticRegression(solver=\"liblinear\")\n",
    "lg.fit(X_train_vec, y_train)"
   ]
  },
  {
   "cell_type": "code",
   "execution_count": 22,
   "metadata": {},
   "outputs": [],
   "source": [
    "from sklearn.metrics import f1_score, recall_score, precision_score"
   ]
  },
  {
   "cell_type": "code",
   "execution_count": 23,
   "metadata": {},
   "outputs": [],
   "source": [
    "y_train_pred = lg.predict(X_train_vec)\n",
    "y_valid_pred = lg.predict(X_valid_vec)\n",
    "y_test_pred = lg.predict(X_test_vec)"
   ]
  },
  {
   "cell_type": "code",
   "execution_count": 24,
   "metadata": {
    "slideshow": {
     "slide_type": "-"
    }
   },
   "outputs": [
    {
     "name": "stdout",
     "output_type": "stream",
     "text": [
      "Train f1: 0.7367256637168142\n",
      "Train precision: 0.9866666666666667\n",
      "Train recall: 0.587819947043248\n",
      "\n",
      "Valid f1: 0.6825127334465195\n",
      "Valid precision: 0.95260663507109\n",
      "Valid recall: 0.5317460317460317\n",
      "\n",
      "Test f1: 0.7015177065767284\n",
      "Test precision: 0.9674418604651163\n",
      "Test recall: 0.5502645502645502\n"
     ]
    }
   ],
   "source": [
    "print(f\"Train f1: {f1_score(y_train, y_train_pred)}\")\n",
    "print(f\"Train precision: {precision_score(y_train, y_train_pred)}\")\n",
    "print(f\"Train recall: {recall_score(y_train, y_train_pred)}\")\n",
    "print(f\"\\nValid f1: {f1_score(y_valid, y_valid_pred)}\")\n",
    "print(f\"Valid precision: {precision_score(y_valid, y_valid_pred)}\")\n",
    "print(f\"Valid recall: {recall_score(y_valid, y_valid_pred)}\")\n",
    "print(f\"\\nTest f1: {f1_score(y_test, y_test_pred)}\")\n",
    "print(f\"Test precision: {precision_score(y_test, y_test_pred)}\")\n",
    "print(f\"Test recall: {recall_score(y_test, y_test_pred)}\")"
   ]
  },
  {
   "cell_type": "markdown",
   "metadata": {},
   "source": [
    "## Regularization"
   ]
  },
  {
   "cell_type": "markdown",
   "metadata": {},
   "source": [
    "$J(\\theta)=−\\frac{1}{m}\\sum_{i=1}^{m}[y^{(i)}log(h_{\\theta}(x^{(i)})) + (1 - y^{(i)})log(1 - h_{\\theta}(x^{(i)}))]$"
   ]
  },
  {
   "cell_type": "markdown",
   "metadata": {},
   "source": [
    "### L1 regularization"
   ]
  },
  {
   "cell_type": "markdown",
   "metadata": {},
   "source": [
    "$J(\\theta)=−\\frac{1}{m}\\sum_{i=1}^{m}[y^{(i)}log(h_{\\theta}(x^{(i)})) + (1 - y^{(i)})log(1 - h_{\\theta}(x^{(i)}))] + \\lambda\\sum_{j=1}^{n}|\\theta_{j}|$"
   ]
  },
  {
   "cell_type": "markdown",
   "metadata": {},
   "source": [
    "Loại bỏ các feature không quan trọng bằng cách cho $\\theta$ tương ứng về 0."
   ]
  },
  {
   "cell_type": "code",
   "execution_count": 25,
   "metadata": {},
   "outputs": [],
   "source": [
    "import matplotlib.pyplot as plt"
   ]
  },
  {
   "cell_type": "code",
   "execution_count": 26,
   "metadata": {},
   "outputs": [
    {
     "name": "stderr",
     "output_type": "stream",
     "text": [
      "/home/miu/miniconda3/envs/ml/lib/python3.7/site-packages/sklearn/svm/base.py:931: ConvergenceWarning: Liblinear failed to converge, increase the number of iterations.\n",
      "  \"the number of iterations.\", ConvergenceWarning)\n"
     ]
    }
   ],
   "source": [
    "c_list = [0.12, 0.24, 0.48, 1.62, 2.88, 5.2, 10.12]\n",
    "f1_train = []\n",
    "f1_valid = []\n",
    "f1_test = []\n",
    "for i in c_list:\n",
    "    lg = LogisticRegression(random_state=41,\n",
    "                        solver=\"liblinear\",\n",
    "                        C=i,\n",
    "                        penalty=\"l1\",\n",
    "                        max_iter=1000)\n",
    "    lg.fit(X_train_vec, y_train)\n",
    "    y_train_pred = lg.predict(X_train_vec)\n",
    "    y_valid_pred = lg.predict(X_valid_vec)\n",
    "    y_test_pred = lg.predict(X_test_vec)\n",
    "    f1_train.append(f1_score(y_train, y_train_pred))\n",
    "    f1_valid.append(f1_score(y_valid, y_valid_pred))\n",
    "    f1_test.append(f1_score(y_test, y_test_pred))"
   ]
  },
  {
   "cell_type": "code",
   "execution_count": 27,
   "metadata": {},
   "outputs": [
    {
     "data": {
      "text/plain": [
       "Text(0, 0.5, 'f1-score')"
      ]
     },
     "execution_count": 27,
     "metadata": {},
     "output_type": "execute_result"
    },
    {
     "data": {
      "image/png": "[encoded data removed]",
      "text/plain": [
       "<Figure size 432x288 with 1 Axes>"
      ]
     },
     "metadata": {
      "needs_background": "light"
     },
     "output_type": "display_data"
    }
   ],
   "source": [
    "plt.plot(c_list, f1_train, label=\"train\")\n",
    "plt.plot(c_list, f1_valid, label=\"valid\")\n",
    "plt.legend(loc=\"lower right\")\n",
    "plt.xlabel(\"lambda\")\n",
    "plt.ylabel(\"f1-score\")"
   ]
  },
  {
   "cell_type": "markdown",
   "metadata": {},
   "source": [
    "### L2 regularization"
   ]
  },
  {
   "cell_type": "markdown",
   "metadata": {},
   "source": [
    "$J(\\theta)=−\\frac{1}{m}\\sum_{i=1}^{m}[y^{(i)}log(h_{\\theta}(x^{(i)})) + (1 - y^{(i)})log(1 - h_{\\theta}(x^{(i)}))] + \\lambda\\sum_{j=1}^{n}\\theta_{j}^{2}$"
   ]
  },
  {
   "cell_type": "markdown",
   "metadata": {},
   "source": [
    "Giảm $\\theta$ của các feature không quan trọng về con số rất nhỏ."
   ]
  },
  {
   "cell_type": "code",
   "execution_count": 28,
   "metadata": {},
   "outputs": [],
   "source": [
    "c_list = [0.12, 0.24, 0.48, 1.62, 2.88, 5.2, 10.12]\n",
    "f1_train = []\n",
    "f1_valid = []\n",
    "f1_test = []\n",
    "for i in c_list:\n",
    "    lg = LogisticRegression(random_state=41,\n",
    "                        solver=\"liblinear\",\n",
    "                        C=i,\n",
    "                        penalty=\"l2\",\n",
    "                        max_iter=1000)\n",
    "    lg.fit(X_train_vec, y_train)\n",
    "    y_train_pred = lg.predict(X_train_vec)\n",
    "    y_valid_pred = lg.predict(X_valid_vec)\n",
    "    y_test_pred = lg.predict(X_test_vec)\n",
    "    f1_train.append(f1_score(y_train, y_train_pred))\n",
    "    f1_valid.append(f1_score(y_valid, y_valid_pred))\n",
    "    f1_test.append(f1_score(y_test, y_test_pred))"
   ]
  },
  {
   "cell_type": "code",
   "execution_count": 29,
   "metadata": {},
   "outputs": [
    {
     "data": {
      "text/plain": [
       "Text(0, 0.5, 'f1-score')"
      ]
     },
     "execution_count": 29,
     "metadata": {},
     "output_type": "execute_result"
    },
    {
     "data": {
      "image/png": "[encoded data removed]",
      "text/plain": [
       "<Figure size 432x288 with 1 Axes>"
      ]
     },
     "metadata": {
      "needs_background": "light"
     },
     "output_type": "display_data"
    }
   ],
   "source": [
    "plt.plot(c_list, f1_train, label=\"train\")\n",
    "plt.plot(c_list, f1_valid, label=\"valid\")\n",
    "plt.legend(loc=\"lower right\")\n",
    "plt.xlabel(\"lambda\")\n",
    "plt.ylabel(\"f1-score\")"
   ]
  },
  {
   "cell_type": "markdown",
   "metadata": {},
   "source": [
    "Cả hai phương pháp tốt nhất khi $\\lambda \\approx 1.8$ nhưng f1-score của L1 tốt hơn L2."
   ]
  },
  {
   "cell_type": "code",
   "execution_count": 30,
   "metadata": {},
   "outputs": [
    {
     "data": {
      "text/plain": [
       "LogisticRegression(C=1.8, class_weight=None, dual=False, fit_intercept=True,\n",
       "          intercept_scaling=1, max_iter=1000, multi_class='warn',\n",
       "          n_jobs=None, penalty='l1', random_state=41, solver='liblinear',\n",
       "          tol=0.0001, verbose=0, warm_start=False)"
      ]
     },
     "execution_count": 30,
     "metadata": {},
     "output_type": "execute_result"
    }
   ],
   "source": [
    "lg = LogisticRegression(random_state=41,\n",
    "                        solver=\"liblinear\",\n",
    "                        C=1.8,\n",
    "                        penalty=\"l1\",\n",
    "                        max_iter=1000)\n",
    "lg.fit(X_train_vec, y_train)"
   ]
  },
  {
   "cell_type": "code",
   "execution_count": 31,
   "metadata": {},
   "outputs": [],
   "source": [
    "y_train_pred = lg.predict(X_train_vec)\n",
    "y_valid_pred = lg.predict(X_valid_vec)\n",
    "y_test_pred = lg.predict(X_test_vec)"
   ]
  },
  {
   "cell_type": "code",
   "execution_count": 32,
   "metadata": {},
   "outputs": [
    {
     "name": "stdout",
     "output_type": "stream",
     "text": [
      "Train f1: 0.8443142996583699\n",
      "Train precision: 0.9443231441048034\n",
      "Train recall: 0.7634598411297441\n",
      "\n",
      "Valid f1: 0.7886904761904762\n",
      "Valid precision: 0.9013605442176871\n",
      "Valid recall: 0.701058201058201\n",
      "\n",
      "Test f1: 0.808080808080808\n",
      "Test precision: 0.8888888888888888\n",
      "Test recall: 0.7407407407407407\n"
     ]
    }
   ],
   "source": [
    "print(f\"Train f1: {f1_score(y_train, y_train_pred)}\")\n",
    "print(f\"Train precision: {precision_score(y_train, y_train_pred)}\")\n",
    "print(f\"Train recall: {recall_score(y_train, y_train_pred)}\")\n",
    "print(f\"\\nValid f1: {f1_score(y_valid, y_valid_pred)}\")\n",
    "print(f\"Valid precision: {precision_score(y_valid, y_valid_pred)}\")\n",
    "print(f\"Valid recall: {recall_score(y_valid, y_valid_pred)}\")\n",
    "print(f\"\\nTest f1: {f1_score(y_test, y_test_pred)}\")\n",
    "print(f\"Test precision: {precision_score(y_test, y_test_pred)}\")\n",
    "print(f\"Test recall: {recall_score(y_test, y_test_pred)}\")"
   ]
  },
  {
   "cell_type": "markdown",
   "metadata": {},
   "source": [
    "# (4) Error analysis"
   ]
  },
  {
   "cell_type": "code",
   "execution_count": 33,
   "metadata": {},
   "outputs": [
    {
     "name": "stdout",
     "output_type": "stream",
     "text": [
      "Actual        0    1\n",
      "Predicted           \n",
      "0          2128  113\n",
      "1            29  265\n"
     ]
    }
   ],
   "source": [
    "confusion_matrix = pd.crosstab(y_valid_pred, y_valid, rownames=['Predicted'], colnames=['Actual'])\n",
    "print(confusion_matrix)"
   ]
  },
  {
   "cell_type": "code",
   "execution_count": 34,
   "metadata": {},
   "outputs": [
    {
     "name": "stdout",
     "output_type": "stream",
     "text": [
      "Trong tập valid có 113 câu dự đoán sai ra 0 nhưng thật là 1.\n"
     ]
    }
   ],
   "source": [
    "wrong_valid = []\n",
    "for index, label in enumerate(y_valid_pred):\n",
    "    if label == 0 and y_valid[index] == 1:\n",
    "        wrong_valid.append(X_valid.comment.values[index])\n",
    "print(f\"Trong tập valid có {len(wrong_valid)} câu dự đoán sai ra 0 nhưng thật là 1.\")"
   ]
  },
  {
   "cell_type": "code",
   "execution_count": 35,
   "metadata": {},
   "outputs": [],
   "source": [
    "from preproc.preprocess import new_preproc\n",
    "import numpy as np"
   ]
  },
  {
   "cell_type": "code",
   "execution_count": 36,
   "metadata": {
    "scrolled": true
   },
   "outputs": [
    {
     "name": "stdout",
     "output_type": "stream",
     "text": [
      "[RAW] Ngu thì chết. Bệnh tật j\n",
      "[OLD] chết bệnh_tật\n",
      "[NEW] ngu chết bệnh_tật\n",
      "\n",
      "[RAW] Đéo thấy zui chỗ nào\n",
      "[OLD] thấy zui chỗ nào\n",
      "[NEW] đéo thấy zui chỗ nào\n",
      "\n",
      "[RAW] Đéo hiểu dơ tay\n",
      "[OLD] hiểu dơ tay\n",
      "[NEW] đéo hiểu dơ tay\n",
      "\n",
      "[RAW] Loại giết người hàng loạt như thế này thì sử bắn luôn thôi,đúng là bọn khốn nạn sợ quá\n",
      "[OLD] giết người hàng_loạt thế thì sử bắn luôn bọn khốn_nạn sợ quá\n",
      "[NEW] loại giết người hàng_loạt thế thì sử bắn luôn bọn khốn_nạn sợ quá\n",
      "\n",
      "[RAW] Ngu hết sức\n",
      "[OLD] hết_sức\n",
      "[NEW] ngu hết_sức\n",
      "\n",
      "[RAW] Nó nói đúng chứ sai chỗ đéo nào? Đá thì bạo lực, trọng tài thì mù lòa, sân thì như cái ruộng Đưa vào hư mẹ nó hết hình Bọn tỏ ra yêu nước hay xạo xạo ra vẻ lắm Có xài bphone chạy xe vin k vậy mấy th yêu nước?\n",
      "[OLD] nó nói đúng sai chỗ đéo nào bạo_lực trọng_tài mù_lòa sân như ruộng đưa hư mẹ nó hết hình tỏ yêu nước hay xạo xạo ra_vẻ lắm xài bphone chạy xe vin vậy mấy thằng yêu nước\n",
      "[NEW] nó nói đúng sai chỗ đéo nào đá bạo_lực trọng_tài mù_lòa sân như ruộng đưa hư mẹ nó hết hình bọn tỏ yêu nước hay xạo xạo ra_vẻ lắm xài bphone chạy xe vin vậy mấy thằng yêu nước\n",
      "\n",
      "[RAW] Lin Daa trên đời này có quá nhiều cái nhầm lẫn chồng người ta cũng nhầm thành chồng mình được mà😂😂 ...hông hiểu sao có loại dở hơi thế cơ đấy\n",
      "[OLD] đời có quá cái nhầm_lẫn chồng người_ta nhầm thành chồng mình mà hông hiểu sao loại dở_hơi thế cơ đấy\n",
      "[NEW] lin da đời có quá cái nhầm_lẫn chồng người_ta nhầm thành chồng mình mà hông hiểu sao loại dở_hơi thế cơ đấy\n",
      "\n",
      "[RAW] Ngu cho chết. Tham thì thâm\n",
      "[OLD] chết tham_thì thâm\n",
      "[NEW] ngu chết tham_thì thâm\n",
      "\n",
      "[RAW] Vãi cả đái\n",
      "[OLD] đái\n",
      "[NEW] vãi đái\n",
      "\n"
     ]
    }
   ],
   "source": [
    "new_df = pd.DataFrame({\"comment\": wrong_valid})\n",
    "new_y = np.zeros(len(wrong_valid)) + 1\n",
    "new_cooked_valid = new_preproc(new_df)\n",
    "new_vec = vectorizer.transform(new_cooked_valid.comment.values).toarray()\n",
    "new_y_pred = lg.predict(new_vec)\n",
    "correct = []\n",
    "for index, label in enumerate(new_y):\n",
    "    if new_y[index] == new_y_pred[index]:\n",
    "        correct.append(wrong_valid[index])\n",
    "\n",
    "correct_df = pd.DataFrame({\"comment\": correct})\n",
    "old_cooked = preproc(correct_df)\n",
    "new_cooked = new_preproc(correct_df)\n",
    "\n",
    "for index, comment in enumerate(correct_df.comment.values):\n",
    "    print(f\"[RAW] {correct[index]}\")\n",
    "    print(f\"[OLD] {old_cooked.comment.values[index]}\")\n",
    "    print(f\"[NEW] {new_cooked.comment.values[index]}\\n\")"
   ]
  },
  {
   "cell_type": "markdown",
   "metadata": {},
   "source": [
    "Một số câu bị mất từ do phần xử lý bỏ tên riêng của underthesea chưa chính xác làm thay đổi ý nghĩa câu."
   ]
  },
  {
   "cell_type": "code",
   "execution_count": 37,
   "metadata": {},
   "outputs": [
    {
     "name": "stdout",
     "output_type": "stream",
     "text": [
      "Valid f1: 0.8011695906432749\n",
      "Valid precision: 0.8954248366013072\n",
      "Valid recall: 0.7248677248677249\n",
      "\n",
      "Test f1: 0.8028571428571427\n",
      "Test precision: 0.8726708074534162\n",
      "Test recall: 0.7433862433862434\n"
     ]
    }
   ],
   "source": [
    "new_X_valid_cooked = new_preproc(X_valid)\n",
    "new_X_test_cooked = new_preproc(X_test)\n",
    "new_valid_vec = vectorizer.transform(new_X_valid_cooked.comment.values).toarray()\n",
    "new_test_vec = vectorizer.transform(new_X_test_cooked.comment.values).toarray()\n",
    "new_valid_pred = lg.predict(new_valid_vec)\n",
    "new_test_pred = lg.predict(new_test_vec)\n",
    "print(f\"Valid f1: {f1_score(y_valid, new_valid_pred)}\")\n",
    "print(f\"Valid precision: {precision_score(y_valid, new_valid_pred)}\")\n",
    "print(f\"Valid recall: {recall_score(y_valid, new_valid_pred)}\")\n",
    "print(f\"\\nTest f1: {f1_score(y_test, new_test_pred)}\")\n",
    "print(f\"Test precision: {precision_score(y_test, new_test_pred)}\")\n",
    "print(f\"Test recall: {recall_score(y_test, new_test_pred)}\")"
   ]
  },
  {
   "cell_type": "code",
   "execution_count": 38,
   "metadata": {},
   "outputs": [
    {
     "name": "stdout",
     "output_type": "stream",
     "text": [
      "Actual        0    1\n",
      "Predicted           \n",
      "0          2125  104\n",
      "1            32  274\n"
     ]
    }
   ],
   "source": [
    "confusion_matrix = pd.crosstab(new_valid_pred, y_valid, rownames=['Predicted'], colnames=['Actual'])\n",
    "print(confusion_matrix)"
   ]
  },
  {
   "cell_type": "markdown",
   "metadata": {},
   "source": [
    "Sau khi bỏ xử lý tên riêng tập valid tăng 1%."
   ]
  },
  {
   "cell_type": "markdown",
   "metadata": {},
   "source": [
    "## Thiếu dữ liệu?"
   ]
  },
  {
   "cell_type": "code",
   "execution_count": 39,
   "metadata": {},
   "outputs": [],
   "source": [
    "from misc import get_learning_curve"
   ]
  },
  {
   "cell_type": "code",
   "execution_count": 40,
   "metadata": {},
   "outputs": [],
   "source": [
    "cooked_data = pd.read_csv(\"data/cooked_data.csv\", na_filter=False)\n",
    "frac_list = [500, 1000, 2500, 3000, 4500, 5500, 6450, 7000, 8500, 10500, 11500, 12000]\n",
    "sub_f1_train, sub_f1_valid, sub_f1_test = get_learning_curve(frac_list, cooked_data)"
   ]
  },
  {
   "cell_type": "code",
   "execution_count": 41,
   "metadata": {},
   "outputs": [
    {
     "data": {
      "text/plain": [
       "Text(0, 0.5, 'f1-score')"
      ]
     },
     "execution_count": 41,
     "metadata": {},
     "output_type": "execute_result"
    },
    {
     "data": {
      "image/png": "[encoded data removed]",
      "text/plain": [
       "<Figure size 432x288 with 1 Axes>"
      ]
     },
     "metadata": {
      "needs_background": "light"
     },
     "output_type": "display_data"
    }
   ],
   "source": [
    "plt.plot(frac_list, sub_f1_train, label=\"train\")\n",
    "plt.plot(frac_list, sub_f1_valid, label=\"valid\")\n",
    "plt.legend(loc=\"lower right\")\n",
    "plt.xlabel(\"m sample\")\n",
    "plt.ylabel(\"f1-score\")"
   ]
  },
  {
   "cell_type": "markdown",
   "metadata": {},
   "source": [
    "Càng nhiều sample f1-score có xu hướng tăng dần."
   ]
  },
  {
   "cell_type": "markdown",
   "metadata": {},
   "source": [
    "# (5) Model interpretation"
   ]
  },
  {
   "cell_type": "code",
   "execution_count": 42,
   "metadata": {},
   "outputs": [
    {
     "name": "stdout",
     "output_type": "stream",
     "text": [
      "l1 giảm số feature từ 7000 còn 286\n"
     ]
    }
   ],
   "source": [
    "sum = 0\n",
    "for coef in lg.coef_[0]:\n",
    "    if coef != 0:\n",
    "        sum += 1\n",
    "print(f\"l1 giảm số feature từ {len(lg.coef_[0])} còn {sum}\")"
   ]
  },
  {
   "cell_type": "markdown",
   "metadata": {},
   "source": [
    "$\\text{odds} = \\frac{P(y=1)}{P(y=0)} = exp(\\sum_{i=0}^{n}\\theta_{i}x_{i})$"
   ]
  },
  {
   "cell_type": "markdown",
   "metadata": {},
   "source": [
    "Odds cho biết khả năng của một bình luận thuộc về lớp 1 cao hơn bao nhiêu lần so với lớp 0."
   ]
  },
  {
   "cell_type": "code",
   "execution_count": 43,
   "metadata": {},
   "outputs": [
    {
     "data": {
      "text/plain": [
       "array([0.03602253, 2.21667224, 0.07972213])"
      ]
     },
     "execution_count": 43,
     "metadata": {},
     "output_type": "execute_result"
    }
   ],
   "source": [
    "test_corp = {\"comment\": [\"tôi đi học\", \"mấy con chó này\", \"đừng ăn thịt chó nữa\"]}\n",
    "test_df = pd.DataFrame(test_corp)\n",
    "test_df = preproc(test_df)\n",
    "test_df_vec = vectorizer.transform(test_df.comment.values)\n",
    "\n",
    "p = lg.predict_proba(test_df_vec)\n",
    "odds = p[:, 1] / p[:, 0]\n",
    "odds"
   ]
  },
  {
   "cell_type": "markdown",
   "metadata": {},
   "source": [
    "\"tôi đi học\" có khả năng thuộc về lớp 1 chỉ bằng khoảng 0.03 lần so với lớp 0  \n",
    "\"mấy con chó này\" có khả năng thuộc về lớp 1 hơn 2 lần so với lớp 0  \n",
    "\"đừng ăn thịt chó nữa\" có khả năng thuộc về lớp 1 chỉ bằng khoảng 0.08 lần so với lớp 0"
   ]
  },
  {
   "cell_type": "markdown",
   "metadata": {},
   "source": [
    "  $\\text{odds_ratio} = \\frac{odds_{x_{i}+1}}{odds} = exp(\\theta_{j})$"
   ]
  },
  {
   "cell_type": "markdown",
   "metadata": {},
   "source": [
    "**odds_ratio** của feature $x_{j}$ cho biết khả năng của bình luận thuộc về lớp 1 tăng thêm bao nhiêu nếu nó tăng thêm 1."
   ]
  },
  {
   "cell_type": "code",
   "execution_count": 44,
   "metadata": {},
   "outputs": [],
   "source": [
    "import numpy as np\n",
    "\n",
    "dic = {\"word\": vectorizer.get_feature_names(),\n",
    "       \"weight\": lg.coef_[0],\n",
    "       \"odds_ratio\": np.exp(lg.coef_[0])}\n",
    "table = pd.DataFrame(dic)"
   ]
  },
  {
   "cell_type": "code",
   "execution_count": 45,
   "metadata": {},
   "outputs": [
    {
     "data": {
      "text/html": [
       "<div>\n",
       "<style scoped>\n",
       "    .dataframe tbody tr th:only-of-type {\n",
       "        vertical-align: middle;\n",
       "    }\n",
       "\n",
       "    .dataframe tbody tr th {\n",
       "        vertical-align: top;\n",
       "    }\n",
       "\n",
       "    .dataframe thead th {\n",
       "        text-align: right;\n",
       "    }\n",
       "</style>\n",
       "<table border=\"1\" class=\"dataframe\">\n",
       "  <thead>\n",
       "    <tr style=\"text-align: right;\">\n",
       "      <th></th>\n",
       "      <th>word</th>\n",
       "      <th>weight</th>\n",
       "      <th>odds_ratio</th>\n",
       "    </tr>\n",
       "  </thead>\n",
       "  <tbody>\n",
       "    <tr>\n",
       "      <th>2989</th>\n",
       "      <td>lồn</td>\n",
       "      <td>35.275082</td>\n",
       "      <td>2.088206e+15</td>\n",
       "    </tr>\n",
       "    <tr>\n",
       "      <th>6702</th>\n",
       "      <td>đéo</td>\n",
       "      <td>20.325032</td>\n",
       "      <td>6.715051e+08</td>\n",
       "    </tr>\n",
       "    <tr>\n",
       "      <th>1505</th>\n",
       "      <td>cặc</td>\n",
       "      <td>16.219455</td>\n",
       "      <td>1.106675e+07</td>\n",
       "    </tr>\n",
       "    <tr>\n",
       "      <th>69</th>\n",
       "      <td>ba_que</td>\n",
       "      <td>14.034756</td>\n",
       "      <td>1.245137e+06</td>\n",
       "    </tr>\n",
       "    <tr>\n",
       "      <th>6870</th>\n",
       "      <td>địt_mẹ</td>\n",
       "      <td>13.907415</td>\n",
       "      <td>1.096260e+06</td>\n",
       "    </tr>\n",
       "    <tr>\n",
       "      <th>1059</th>\n",
       "      <td>con_mẹ</td>\n",
       "      <td>12.747482</td>\n",
       "      <td>3.436854e+05</td>\n",
       "    </tr>\n",
       "    <tr>\n",
       "      <th>133</th>\n",
       "      <td>buồi</td>\n",
       "      <td>11.352941</td>\n",
       "      <td>8.521569e+04</td>\n",
       "    </tr>\n",
       "    <tr>\n",
       "      <th>4760</th>\n",
       "      <td>súc_vật</td>\n",
       "      <td>9.896315</td>\n",
       "      <td>1.985706e+04</td>\n",
       "    </tr>\n",
       "    <tr>\n",
       "      <th>3596</th>\n",
       "      <td>ngu</td>\n",
       "      <td>9.840463</td>\n",
       "      <td>1.877841e+04</td>\n",
       "    </tr>\n",
       "    <tr>\n",
       "      <th>6864</th>\n",
       "      <td>địt</td>\n",
       "      <td>8.967095</td>\n",
       "      <td>7.840790e+03</td>\n",
       "    </tr>\n",
       "  </tbody>\n",
       "</table>\n",
       "</div>"
      ],
      "text/plain": [
       "         word     weight    odds_ratio\n",
       "2989      lồn  35.275082  2.088206e+15\n",
       "6702      đéo  20.325032  6.715051e+08\n",
       "1505      cặc  16.219455  1.106675e+07\n",
       "69     ba_que  14.034756  1.245137e+06\n",
       "6870   địt_mẹ  13.907415  1.096260e+06\n",
       "1059   con_mẹ  12.747482  3.436854e+05\n",
       "133      buồi  11.352941  8.521569e+04\n",
       "4760  súc_vật   9.896315  1.985706e+04\n",
       "3596      ngu   9.840463  1.877841e+04\n",
       "6864      địt   8.967095  7.840790e+03"
      ]
     },
     "execution_count": 45,
     "metadata": {},
     "output_type": "execute_result"
    }
   ],
   "source": [
    "table.sort_values(by=[\"odds_ratio\"], axis=0, ascending=False).head(10)"
   ]
  },
  {
   "cell_type": "code",
   "execution_count": 46,
   "metadata": {},
   "outputs": [
    {
     "data": {
      "text/html": [
       "<div>\n",
       "<style scoped>\n",
       "    .dataframe tbody tr th:only-of-type {\n",
       "        vertical-align: middle;\n",
       "    }\n",
       "\n",
       "    .dataframe tbody tr th {\n",
       "        vertical-align: top;\n",
       "    }\n",
       "\n",
       "    .dataframe thead th {\n",
       "        text-align: right;\n",
       "    }\n",
       "</style>\n",
       "<table border=\"1\" class=\"dataframe\">\n",
       "  <thead>\n",
       "    <tr style=\"text-align: right;\">\n",
       "      <th></th>\n",
       "      <th>word</th>\n",
       "      <th>weight</th>\n",
       "      <th>odds_ratio</th>\n",
       "    </tr>\n",
       "  </thead>\n",
       "  <tbody>\n",
       "    <tr>\n",
       "      <th>218</th>\n",
       "      <td>bạn</td>\n",
       "      <td>-4.832295</td>\n",
       "      <td>0.007968</td>\n",
       "    </tr>\n",
       "    <tr>\n",
       "      <th>6976</th>\n",
       "      <td>ấy</td>\n",
       "      <td>-4.759211</td>\n",
       "      <td>0.008572</td>\n",
       "    </tr>\n",
       "    <tr>\n",
       "      <th>1786</th>\n",
       "      <td>em</td>\n",
       "      <td>-3.278977</td>\n",
       "      <td>0.037667</td>\n",
       "    </tr>\n",
       "    <tr>\n",
       "      <th>356</th>\n",
       "      <td>bọn nó</td>\n",
       "      <td>-3.064833</td>\n",
       "      <td>0.046662</td>\n",
       "    </tr>\n",
       "    <tr>\n",
       "      <th>30</th>\n",
       "      <td>anh</td>\n",
       "      <td>-2.456212</td>\n",
       "      <td>0.085759</td>\n",
       "    </tr>\n",
       "  </tbody>\n",
       "</table>\n",
       "</div>"
      ],
      "text/plain": [
       "        word    weight  odds_ratio\n",
       "218      bạn -4.832295    0.007968\n",
       "6976      ấy -4.759211    0.008572\n",
       "1786      em -3.278977    0.037667\n",
       "356   bọn nó -3.064833    0.046662\n",
       "30       anh -2.456212    0.085759"
      ]
     },
     "execution_count": 46,
     "metadata": {},
     "output_type": "execute_result"
    }
   ],
   "source": [
    "table.sort_values(by=[\"odds_ratio\"], axis=0, ascending=True).head()"
   ]
  },
  {
   "cell_type": "markdown",
   "metadata": {},
   "source": [
    "Ta thấy các từ chửi tục có odds_ratio rất cao nên có thể kết luận model đang làm đúng việc."
   ]
  }
 ],
 "metadata": {
  "kernelspec": {
   "display_name": "Python 3",
   "language": "python",
   "name": "python3"
  },
  "language_info": {
   "codemirror_mode": {
    "name": "ipython",
    "version": 3
   },
   "file_extension": ".py",
   "mimetype": "text/x-python",
   "name": "python",
   "nbconvert_exporter": "python",
   "pygments_lexer": "ipython3",
   "version": "3.7.7"
  }
 },
 "nbformat": 4,
 "nbformat_minor": 4
}
