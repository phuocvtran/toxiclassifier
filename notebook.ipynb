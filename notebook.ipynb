{
 "cells": [
  {
   "cell_type": "markdown",
   "metadata": {},
   "source": [
    "# Mục lục"
   ]
  },
  {
   "cell_type": "markdown",
   "metadata": {},
   "source": [
    "1. [Giới thiệu](#intro)\n",
    "2. [EDA](#eda)\n",
    "3. [Xây dựng mô hình](#modeling)\n",
    "    1. [Tiền xử lý](#preprocessing)\n",
    "    2. [Chia dữ liệu](#datasplit)\n",
    "    3. [Giới thiệu tfidf](#tfidf-intro)\n",
    "    4. [Chuyển đổi sang tf-idf](#tfidf-appl)\n",
    "    5. [Hồi quy logistic](#lg)\n",
    "    6. [Kiểm soát (regularize)](#reg)\n",
    "    7. [Xác thực (validating)](#valid)\n",
    "4. [Diễn dịch mô hình](#interpret)\n",
    "    1. [Odds](#odds)\n",
    "    2. [Odds ratio](#odds-ratio)\n",
    "5. [Tham khảo](#ref)"
   ]
  },
  {
   "cell_type": "markdown",
   "metadata": {},
   "source": [
    "# (1) Giới thiệu <a name=\"intro\"></a>"
   ]
  },
  {
   "cell_type": "markdown",
   "metadata": {},
   "source": [
    "Nhận dạng bình luận độc hại (toxic comment classification).  \n",
    "Bình luận độc hại là những bình luận:\n",
    "* chửi tục\n",
    "* phân biệt (vùng miền, giới tính)\n",
    "* lăng mạ\n",
    "* cổ súy bạo lực (vd: \"hạng này bắn bỏ\", \"tử hình cả dòng họ nó\").\n",
    "\n",
    "Đầu vào là một bình luận đầu ra sẽ là một nhãn \"0\" hoặc \"1\" với \"1\" là bình luận độc hại và \"0\" là bình thường."
   ]
  },
  {
   "cell_type": "markdown",
   "metadata": {},
   "source": [
    "# (2) EDA<a name=\"eda\"></a>"
   ]
  },
  {
   "cell_type": "code",
   "execution_count": 1,
   "metadata": {},
   "outputs": [],
   "source": [
    "import pandas as pd\n",
    "import numpy as np\n",
    "from seaborn import countplot"
   ]
  },
  {
   "cell_type": "code",
   "execution_count": 2,
   "metadata": {},
   "outputs": [
    {
     "data": {
      "text/html": [
       "<div>\n",
       "<style scoped>\n",
       "    .dataframe tbody tr th:only-of-type {\n",
       "        vertical-align: middle;\n",
       "    }\n",
       "\n",
       "    .dataframe tbody tr th {\n",
       "        vertical-align: top;\n",
       "    }\n",
       "\n",
       "    .dataframe thead th {\n",
       "        text-align: right;\n",
       "    }\n",
       "</style>\n",
       "<table border=\"1\" class=\"dataframe\">\n",
       "  <thead>\n",
       "    <tr style=\"text-align: right;\">\n",
       "      <th></th>\n",
       "      <th>id</th>\n",
       "      <th>comment</th>\n",
       "      <th>is_toxic</th>\n",
       "    </tr>\n",
       "  </thead>\n",
       "  <tbody>\n",
       "    <tr>\n",
       "      <th>12671</th>\n",
       "      <td>12671</td>\n",
       "      <td>Bảo Bảo hum đúng là như lozz thật xem clip tắt...</td>\n",
       "      <td>1</td>\n",
       "    </tr>\n",
       "    <tr>\n",
       "      <th>12672</th>\n",
       "      <td>12672</td>\n",
       "      <td>Trần Hà hên là mày khôn ra</td>\n",
       "      <td>0</td>\n",
       "    </tr>\n",
       "    <tr>\n",
       "      <th>12673</th>\n",
       "      <td>12673</td>\n",
       "      <td>Bích Huyền chuyện dì cũng có thể xảy ra</td>\n",
       "      <td>0</td>\n",
       "    </tr>\n",
       "    <tr>\n",
       "      <th>12674</th>\n",
       "      <td>12674</td>\n",
       "      <td>Nguyễn Trân Trân dm t nhìn giống m vl :))</td>\n",
       "      <td>1</td>\n",
       "    </tr>\n",
       "    <tr>\n",
       "      <th>12675</th>\n",
       "      <td>12675</td>\n",
       "      <td>Nguyễn Trang mới đọc nãy</td>\n",
       "      <td>0</td>\n",
       "    </tr>\n",
       "  </tbody>\n",
       "</table>\n",
       "</div>"
      ],
      "text/plain": [
       "          id                                            comment  is_toxic\n",
       "12671  12671  Bảo Bảo hum đúng là như lozz thật xem clip tắt...         1\n",
       "12672  12672                         Trần Hà hên là mày khôn ra         0\n",
       "12673  12673            Bích Huyền chuyện dì cũng có thể xảy ra         0\n",
       "12674  12674          Nguyễn Trân Trân dm t nhìn giống m vl :))         1\n",
       "12675  12675                           Nguyễn Trang mới đọc nãy         0"
      ]
     },
     "execution_count": 2,
     "metadata": {},
     "output_type": "execute_result"
    }
   ],
   "source": [
    "raw_data = pd.read_csv(\"data/raw_data.csv\")\n",
    "raw_data.tail()"
   ]
  },
  {
   "cell_type": "markdown",
   "metadata": {},
   "source": [
    "Dữ liệu thu được gồm 12675 bình luận. Gồm các trường id, comment, is_toxic."
   ]
  },
  {
   "cell_type": "code",
   "execution_count": 3,
   "metadata": {},
   "outputs": [
    {
     "name": "stdout",
     "output_type": "stream",
     "text": [
      "['Việt Trinh', 'Hương Gà k ck mình hơn mình 5t. Mệt lắm =)))))', '👉Nhận order mua hộ vận chuyện hàng Trung - Việt 😊\\n👉 Hàng nội địa giá tận gốc.\\n👉Chuyên sỉ (hàng có sẵn)\\n\\n😘Like Trang https://m.facebook.com/101837188158750/photos/a.101838121491990/103918364617299/?type=3&source=44 để cập nhật những món khoái khẩu nhé 🥰']\n"
     ]
    }
   ],
   "source": [
    "ex = [raw_data.loc[98].comment, raw_data.loc[108].comment, raw_data.loc[1964].comment]\n",
    "print(ex)"
   ]
  },
  {
   "cell_type": "markdown",
   "metadata": {},
   "source": [
    "Dữ liệu comment có chứa tên riêng, từ viết tắt, emoji, url, sai chính tả, thiếu dấu, teencode."
   ]
  },
  {
   "cell_type": "code",
   "execution_count": 4,
   "metadata": {},
   "outputs": [
    {
     "data": {
      "text/plain": [
       "<AxesSubplot:xlabel='is_toxic', ylabel='count'>"
      ]
     },
     "execution_count": 4,
     "metadata": {},
     "output_type": "execute_result"
    },
    {
     "data": {
      "image/png": "[encoded data removed]",
      "text/plain": [
       "<Figure size 432x288 with 1 Axes>"
      ]
     },
     "metadata": {
      "needs_background": "light"
     },
     "output_type": "display_data"
    }
   ],
   "source": [
    "countplot(raw_data.is_toxic)"
   ]
  },
  {
   "cell_type": "code",
   "execution_count": 5,
   "metadata": {},
   "outputs": [
    {
     "name": "stdout",
     "output_type": "stream",
     "text": [
      "Các bình luận độc hại chiếm 14.89% tổng số bình luận.\n"
     ]
    }
   ],
   "source": [
    "num_0, num_1 = raw_data.is_toxic.value_counts().values\n",
    "print(f\"Các bình luận độc hại chiếm {round(num_1 / (num_0 + num_1) * 100, 2)}% tổng số bình luận.\")"
   ]
  },
  {
   "cell_type": "markdown",
   "metadata": {},
   "source": [
    "# (3) Xây dựng model<a name=\"modeling\"></a>"
   ]
  },
  {
   "cell_type": "markdown",
   "metadata": {},
   "source": [
    "## 3.A. Tiền xử lý<a name=\"preprocessing\"></a>"
   ]
  },
  {
   "cell_type": "markdown",
   "metadata": {},
   "source": [
    "Tiền xử lý bao gồm các việc được thực hiện tuần tự:\n",
    "1. Bỏ khoảng trắng thừa, đưa về viết thường\n",
    "2. Chuyển đổi chữ viết tắt sang đầy đủ, được thực hiện bằng cách dò từ điển (các bước thực hiện ở hình dưới)\n",
    "3. Tách từ (tokenize). Sử dụng [VnCoreNLP wordsegmenter](https://github.com/vncorenlp/VnCoreNLP).\n",
    "4. Bỏ từ sai chính tả, tiếng nước ngoài, .... Sử dụng bộ từ vựng lấy từ [miai.vn](https://www.miai.vn/thu-vien-mi-ai/), nếu từ không có trong bộ thì loại bỏ\n",
    "5. Loại bỏ stop word. Danh sách stop word [tại đây](https://xltiengviet.fandom.com/wiki/Danh_s%C3%A1ch_stop_word)"
   ]
  },
  {
   "cell_type": "markdown",
   "metadata": {},
   "source": [
    "![Abbreviation chart](img/abbreviation_chart.png)"
   ]
  },
  {
   "cell_type": "code",
   "execution_count": 6,
   "metadata": {},
   "outputs": [],
   "source": [
    "from preprocess import preprocess_df"
   ]
  },
  {
   "cell_type": "code",
   "execution_count": 7,
   "metadata": {},
   "outputs": [],
   "source": [
    "X = raw_data.drop([\"id\"], axis=1)"
   ]
  },
  {
   "cell_type": "code",
   "execution_count": 8,
   "metadata": {},
   "outputs": [],
   "source": [
    "X_proc = preprocess_df(X)"
   ]
  },
  {
   "cell_type": "code",
   "execution_count": 9,
   "metadata": {},
   "outputs": [
    {
     "data": {
      "text/plain": [
       "comment     676\n",
       "is_toxic      0\n",
       "dtype: int64"
      ]
     },
     "execution_count": 9,
     "metadata": {},
     "output_type": "execute_result"
    }
   ],
   "source": [
    "X_proc = X_proc.replace(\"\", np.NaN)\n",
    "X_proc.isnull().sum()"
   ]
  },
  {
   "cell_type": "code",
   "execution_count": 10,
   "metadata": {},
   "outputs": [
    {
     "data": {
      "text/html": [
       "<div>\n",
       "<style scoped>\n",
       "    .dataframe tbody tr th:only-of-type {\n",
       "        vertical-align: middle;\n",
       "    }\n",
       "\n",
       "    .dataframe tbody tr th {\n",
       "        vertical-align: top;\n",
       "    }\n",
       "\n",
       "    .dataframe thead th {\n",
       "        text-align: right;\n",
       "    }\n",
       "</style>\n",
       "<table border=\"1\" class=\"dataframe\">\n",
       "  <thead>\n",
       "    <tr style=\"text-align: right;\">\n",
       "      <th></th>\n",
       "      <th>comment</th>\n",
       "      <th>is_toxic</th>\n",
       "    </tr>\n",
       "  </thead>\n",
       "  <tbody>\n",
       "    <tr>\n",
       "      <th>43</th>\n",
       "      <td>Việt Nguyễn</td>\n",
       "      <td>0</td>\n",
       "    </tr>\n",
       "    <tr>\n",
       "      <th>71</th>\n",
       "      <td>dell hỉu</td>\n",
       "      <td>0</td>\n",
       "    </tr>\n",
       "    <tr>\n",
       "      <th>102</th>\n",
       "      <td>\"=))\"</td>\n",
       "      <td>0</td>\n",
       "    </tr>\n",
       "    <tr>\n",
       "      <th>104</th>\n",
       "      <td>Nguyễn Thuỵ</td>\n",
       "      <td>0</td>\n",
       "    </tr>\n",
       "    <tr>\n",
       "      <th>112</th>\n",
       "      <td>Aretha Pham</td>\n",
       "      <td>0</td>\n",
       "    </tr>\n",
       "    <tr>\n",
       "      <th>...</th>\n",
       "      <td>...</td>\n",
       "      <td>...</td>\n",
       "    </tr>\n",
       "    <tr>\n",
       "      <th>12591</th>\n",
       "      <td>Vler</td>\n",
       "      <td>0</td>\n",
       "    </tr>\n",
       "    <tr>\n",
       "      <th>12595</th>\n",
       "      <td>Nacy Lê đúng r thì phải</td>\n",
       "      <td>0</td>\n",
       "    </tr>\n",
       "    <tr>\n",
       "      <th>12598</th>\n",
       "      <td>#ERROR!</td>\n",
       "      <td>0</td>\n",
       "    </tr>\n",
       "    <tr>\n",
       "      <th>12623</th>\n",
       "      <td>🤨)\\n( ))\\n/ \\</td>\n",
       "      <td>0</td>\n",
       "    </tr>\n",
       "    <tr>\n",
       "      <th>12670</th>\n",
       "      <td>.</td>\n",
       "      <td>0</td>\n",
       "    </tr>\n",
       "  </tbody>\n",
       "</table>\n",
       "<p>676 rows × 2 columns</p>\n",
       "</div>"
      ],
      "text/plain": [
       "                       comment  is_toxic\n",
       "43                 Việt Nguyễn         0\n",
       "71                    dell hỉu         0\n",
       "102                      \"=))\"         0\n",
       "104                Nguyễn Thuỵ         0\n",
       "112                Aretha Pham         0\n",
       "...                        ...       ...\n",
       "12591                     Vler         0\n",
       "12595  Nacy Lê đúng r thì phải         0\n",
       "12598                  #ERROR!         0\n",
       "12623            🤨)\\n( ))\\n/ \\         0\n",
       "12670                        .         0\n",
       "\n",
       "[676 rows x 2 columns]"
      ]
     },
     "execution_count": 10,
     "metadata": {},
     "output_type": "execute_result"
    }
   ],
   "source": [
    "X = raw_data.drop([\"id\"], axis=1)\n",
    "X[X_proc.isnull().any(axis=1)]"
   ]
  },
  {
   "cell_type": "markdown",
   "metadata": {},
   "source": [
    "Sau khi tiền xử lý có 700 bình luận bị trống, những bình luận này thường chỉ chứa toàn stop word, tagging, sai chính tả, thiếu dấu... hoặc chỉ chứa icon, emoji. Ta sẽ bỏ chúng đi."
   ]
  },
  {
   "cell_type": "code",
   "execution_count": 11,
   "metadata": {},
   "outputs": [],
   "source": [
    "X_proc = X_proc.dropna()\n",
    "X_proc.to_csv(\"data/preprocessed_data.csv\", index=False)\n",
    "X = X_proc.reset_index().drop([\"index\"], axis=1)"
   ]
  },
  {
   "cell_type": "code",
   "execution_count": 12,
   "metadata": {},
   "outputs": [
    {
     "data": {
      "text/html": [
       "<div>\n",
       "<style scoped>\n",
       "    .dataframe tbody tr th:only-of-type {\n",
       "        vertical-align: middle;\n",
       "    }\n",
       "\n",
       "    .dataframe tbody tr th {\n",
       "        vertical-align: top;\n",
       "    }\n",
       "\n",
       "    .dataframe thead th {\n",
       "        text-align: right;\n",
       "    }\n",
       "</style>\n",
       "<table border=\"1\" class=\"dataframe\">\n",
       "  <thead>\n",
       "    <tr style=\"text-align: right;\">\n",
       "      <th></th>\n",
       "      <th>comment</th>\n",
       "      <th>is_toxic</th>\n",
       "    </tr>\n",
       "  </thead>\n",
       "  <tbody>\n",
       "    <tr>\n",
       "      <th>11995</th>\n",
       "      <td>bảo bảo đúng lồn thật xem tắt</td>\n",
       "      <td>1</td>\n",
       "    </tr>\n",
       "    <tr>\n",
       "      <th>11996</th>\n",
       "      <td>trần hà hên mày khôn</td>\n",
       "      <td>0</td>\n",
       "    </tr>\n",
       "    <tr>\n",
       "      <th>11997</th>\n",
       "      <td>bích huyền chuyện dì xảy</td>\n",
       "      <td>0</td>\n",
       "    </tr>\n",
       "    <tr>\n",
       "      <th>11998</th>\n",
       "      <td>địt_mẹ tao nhìn giống mày vãi lồn</td>\n",
       "      <td>1</td>\n",
       "    </tr>\n",
       "    <tr>\n",
       "      <th>11999</th>\n",
       "      <td>mới đọc nãy</td>\n",
       "      <td>0</td>\n",
       "    </tr>\n",
       "  </tbody>\n",
       "</table>\n",
       "</div>"
      ],
      "text/plain": [
       "                                 comment  is_toxic\n",
       "11995      bảo bảo đúng lồn thật xem tắt         1\n",
       "11996               trần hà hên mày khôn         0\n",
       "11997           bích huyền chuyện dì xảy         0\n",
       "11998  địt_mẹ tao nhìn giống mày vãi lồn         1\n",
       "11999                        mới đọc nãy         0"
      ]
     },
     "execution_count": 12,
     "metadata": {},
     "output_type": "execute_result"
    }
   ],
   "source": [
    "X.tail()"
   ]
  },
  {
   "cell_type": "markdown",
   "metadata": {},
   "source": [
    "![Clean cloud](img/clean_cloud.png)\n",
    "![Toxic cloud](img/toxic_cloud.png)"
   ]
  },
  {
   "cell_type": "markdown",
   "metadata": {},
   "source": [
    "Word cloud sau khi đã qua tiền xử lý."
   ]
  },
  {
   "cell_type": "markdown",
   "metadata": {},
   "source": [
    "## 3.B. Chia dữ liệu<a name=\"datasplit\"></a>"
   ]
  },
  {
   "cell_type": "markdown",
   "metadata": {},
   "source": [
    "Chia dữ liệu ra làm 3 bộ train/valid/test theo tỉ lệ 6/2/2.  \n",
    "Đầu tiên chia train (80%) và test (20%) theo bộ dữ liệu đầy đủ. Sau đó chia valid 25% từ bộ train."
   ]
  },
  {
   "cell_type": "code",
   "execution_count": 13,
   "metadata": {},
   "outputs": [],
   "source": [
    "from sklearn.model_selection import train_test_split"
   ]
  },
  {
   "cell_type": "code",
   "execution_count": 14,
   "metadata": {},
   "outputs": [],
   "source": [
    "y = X.is_toxic.to_numpy()\n",
    "X = X.drop([\"is_toxic\"], axis=1)"
   ]
  },
  {
   "cell_type": "code",
   "execution_count": 15,
   "metadata": {},
   "outputs": [],
   "source": [
    "X_train, X_test, y_train, y_test = train_test_split(X, y, test_size=0.2, random_state=41, stratify=y)\n",
    "X_train, X_valid, y_train, y_valid = train_test_split(X_train, y_train, test_size=0.25, \n",
    "                                                      random_state=41, stratify=y_train)"
   ]
  },
  {
   "cell_type": "code",
   "execution_count": 16,
   "metadata": {},
   "outputs": [
    {
     "data": {
      "text/plain": [
       "<AxesSubplot:xlabel='is_toxic', ylabel='count'>"
      ]
     },
     "execution_count": 16,
     "metadata": {},
     "output_type": "execute_result"
    },
    {
     "data": {
      "image/png": "[encoded data removed]",
      "text/plain": [
       "<Figure size 432x288 with 1 Axes>"
      ]
     },
     "metadata": {
      "needs_background": "light"
     },
     "output_type": "display_data"
    }
   ],
   "source": [
    "dftr = pd.DataFrame(data={\"is_toxic\": y_train, \"set\": [\"train\"] * len(y_train)})\n",
    "dfva = pd.DataFrame(data={\"is_toxic\": y_valid, \"set\": [\"valid\"] * len(y_valid)})\n",
    "dfte = pd.DataFrame(data={\"is_toxic\": y_test, \"set\": [\"test\"] * len(y_test)})\n",
    "frame = [dftr, dfva, dfte]\n",
    "ess = pd.concat(frame)\n",
    "countplot(data=ess, hue=\"set\", x=\"is_toxic\")"
   ]
  },
  {
   "cell_type": "markdown",
   "metadata": {},
   "source": [
    "## 3.C. Giới thiệu tf-idf<a name=\"tfidf-intro\"></a>"
   ]
  },
  {
   "cell_type": "markdown",
   "metadata": {},
   "source": [
    "Term frequency inverse document frequency được tính bằng công thức:  \n",
    "$tf-idf(t, d) = tf(t, d) * idf(t)$\n",
    "\n",
    "*t là chữ và d là bình luận.*"
   ]
  },
  {
   "cell_type": "markdown",
   "metadata": {},
   "source": [
    "Theo sklearn **tf(t, d)** được tính bằng **CountVectorizer**. "
   ]
  },
  {
   "cell_type": "code",
   "execution_count": 17,
   "metadata": {},
   "outputs": [],
   "source": [
    "from sklearn.feature_extraction.text import CountVectorizer, TfidfTransformer"
   ]
  },
  {
   "cell_type": "code",
   "execution_count": 18,
   "metadata": {},
   "outputs": [
    {
     "data": {
      "text/plain": [
       "['chơi', 'học', 'tôi', 'đi']"
      ]
     },
     "execution_count": 18,
     "metadata": {},
     "output_type": "execute_result"
    }
   ],
   "source": [
    "corpus = [\"tôi đi học\", \"tôi đi chơi\"]\n",
    "exvec = CountVectorizer()\n",
    "exvec.fit(corpus)\n",
    "exvec.get_feature_names()"
   ]
  },
  {
   "cell_type": "code",
   "execution_count": 19,
   "metadata": {},
   "outputs": [
    {
     "data": {
      "text/plain": [
       "array([[0, 1, 1, 1],\n",
       "       [1, 0, 1, 1]])"
      ]
     },
     "execution_count": 19,
     "metadata": {},
     "output_type": "execute_result"
    }
   ],
   "source": [
    "ex = exvec.transform(corpus).toarray()\n",
    "ex"
   ]
  },
  {
   "cell_type": "markdown",
   "metadata": {},
   "source": [
    "**smooth_idf=False**  \n",
    "$ idf(t) = log(\\frac{n}{df(t)}) + 1 $\n",
    "\n",
    "**smooth_idf=True**  \n",
    "$ idf(t) = log(\\frac{n + 1}{df(t) + 1}) + 1 $\n",
    "\n",
    "\n",
    "*n là tổng số lượng các bình luận*  \n",
    "*df(t) là số bình luận trong đó có chứa t*"
   ]
  },
  {
   "cell_type": "code",
   "execution_count": 20,
   "metadata": {},
   "outputs": [
    {
     "data": {
      "text/plain": [
       "array([1.40546511, 1.40546511, 1.        , 1.        ])"
      ]
     },
     "execution_count": 20,
     "metadata": {},
     "output_type": "execute_result"
    }
   ],
   "source": [
    "transformer = TfidfTransformer()\n",
    "transformer.fit(ex)\n",
    "transformer.idf_"
   ]
  },
  {
   "cell_type": "markdown",
   "metadata": {},
   "source": [
    "$tf-idf(\\text{\"tôi đi học\"}) = [0 * 1.41,  1 * 1.41,  1 * 1,  1 * 1] = [0. ,  1.41,  1,  1]$"
   ]
  },
  {
   "cell_type": "markdown",
   "metadata": {},
   "source": [
    "Thư viện sklearn sau đó thực hiện **normalization** trên vector tf-idf bằng công thức:  \n",
    "$v_{norm} = \\frac{v}{\\sqrt(v_{1}^{2} + v_{2}^{2} + ... + v_{n}^{2})} = [0., 0.7, 0.5, 0.5]$"
   ]
  },
  {
   "cell_type": "code",
   "execution_count": 21,
   "metadata": {},
   "outputs": [
    {
     "data": {
      "text/plain": [
       "array([[0.        , 0.70490949, 0.50154891, 0.50154891],\n",
       "       [0.70490949, 0.        , 0.50154891, 0.50154891]])"
      ]
     },
     "execution_count": 21,
     "metadata": {},
     "output_type": "execute_result"
    }
   ],
   "source": [
    "transformer.transform(ex).toarray()"
   ]
  },
  {
   "cell_type": "markdown",
   "metadata": {},
   "source": [
    "## 3.D. Thực hiện chuyển đổi sang tf-idf<a name=\"tfidf-appl\"></a>"
   ]
  },
  {
   "cell_type": "markdown",
   "metadata": {},
   "source": [
    "Trong sklearn có TfidfVectorizer tương đương với việc thực hiện CountVectorizer sau đó TfidfTransformer."
   ]
  },
  {
   "cell_type": "code",
   "execution_count": 22,
   "metadata": {},
   "outputs": [],
   "source": [
    "from sklearn.feature_extraction.text import TfidfVectorizer"
   ]
  },
  {
   "cell_type": "code",
   "execution_count": 23,
   "metadata": {},
   "outputs": [
    {
     "data": {
      "text/plain": [
       "TfidfVectorizer(analyzer='word', binary=False, decode_error='strict',\n",
       "        dtype=<class 'numpy.float64'>, encoding='utf-8', input='content',\n",
       "        lowercase=True, max_df=1.0, max_features=3000, min_df=1,\n",
       "        ngram_range=(1, 3), norm='l2', preprocessor=None, smooth_idf=True,\n",
       "        stop_words=None, strip_accents=None, sublinear_tf=False,\n",
       "        token_pattern='(?u)\\\\b\\\\w\\\\w+\\\\b', tokenizer=None, use_idf=True,\n",
       "        vocabulary=None)"
      ]
     },
     "execution_count": 23,
     "metadata": {},
     "output_type": "execute_result"
    }
   ],
   "source": [
    "corpus = X.comment.values\n",
    "vectorizer = TfidfVectorizer(ngram_range=(1, 3), max_features=3000)\n",
    "vectorizer.fit(corpus)"
   ]
  },
  {
   "cell_type": "code",
   "execution_count": 24,
   "metadata": {},
   "outputs": [],
   "source": [
    "X_train_vec = vectorizer.transform(X_train.comment.values).toarray()\n",
    "X_valid_vec = vectorizer.transform(X_valid.comment.values).toarray()\n",
    "X_test_vec = vectorizer.transform(X_test.comment.values).toarray()\n",
    "y_train = y_train\n",
    "y_valid = y_valid\n",
    "y_test = y_test"
   ]
  },
  {
   "cell_type": "markdown",
   "metadata": {},
   "source": [
    "## 3.E. Hồi quy logistic<a name=\"lg\"></a>"
   ]
  },
  {
   "cell_type": "code",
   "execution_count": 25,
   "metadata": {},
   "outputs": [],
   "source": [
    "from sklearn.linear_model import LogisticRegression"
   ]
  },
  {
   "cell_type": "code",
   "execution_count": 26,
   "metadata": {},
   "outputs": [
    {
     "data": {
      "text/plain": [
       "LogisticRegression(C=1.0, class_weight=None, dual=False, fit_intercept=True,\n",
       "          intercept_scaling=1, max_iter=100, multi_class='warn',\n",
       "          n_jobs=None, penalty='l2', random_state=None, solver='liblinear',\n",
       "          tol=0.0001, verbose=0, warm_start=False)"
      ]
     },
     "execution_count": 26,
     "metadata": {},
     "output_type": "execute_result"
    }
   ],
   "source": [
    "lg = LogisticRegression(solver=\"liblinear\")\n",
    "lg.fit(X_train_vec, y_train)"
   ]
  },
  {
   "cell_type": "code",
   "execution_count": 27,
   "metadata": {},
   "outputs": [],
   "source": [
    "from sklearn.metrics import f1_score, recall_score, precision_score"
   ]
  },
  {
   "cell_type": "code",
   "execution_count": 28,
   "metadata": {},
   "outputs": [],
   "source": [
    "y_train_pred = lg.predict(X_train_vec)\n",
    "y_valid_pred = lg.predict(X_valid_vec)\n",
    "y_test_pred = lg.predict(X_test_vec)"
   ]
  },
  {
   "cell_type": "code",
   "execution_count": 29,
   "metadata": {
    "slideshow": {
     "slide_type": "-"
    }
   },
   "outputs": [
    {
     "name": "stdout",
     "output_type": "stream",
     "text": [
      "Train f1: 0.7443897099069514\n",
      "Train precision: 0.9784172661870504\n",
      "Train recall: 0.6007067137809188\n",
      "\n",
      "Valid f1: 0.6573426573426573\n",
      "Valid precision: 0.9641025641025641\n",
      "Valid recall: 0.4986737400530504\n",
      "\n",
      "Test f1: 0.6925675675675674\n",
      "Test precision: 0.9534883720930233\n",
      "Test recall: 0.5437665782493368\n"
     ]
    }
   ],
   "source": [
    "print(f\"Train f1: {f1_score(y_train, y_train_pred)}\")\n",
    "print(f\"Train precision: {precision_score(y_train, y_train_pred)}\")\n",
    "print(f\"Train recall: {recall_score(y_train, y_train_pred)}\")\n",
    "print(f\"\\nValid f1: {f1_score(y_valid, y_valid_pred)}\")\n",
    "print(f\"Valid precision: {precision_score(y_valid, y_valid_pred)}\")\n",
    "print(f\"Valid recall: {recall_score(y_valid, y_valid_pred)}\")\n",
    "print(f\"\\nTest f1: {f1_score(y_test, y_test_pred)}\")\n",
    "print(f\"Test precision: {precision_score(y_test, y_test_pred)}\")\n",
    "print(f\"Test recall: {recall_score(y_test, y_test_pred)}\")"
   ]
  },
  {
   "cell_type": "markdown",
   "metadata": {},
   "source": [
    "## 3.F. Cơ chế kiểm soát (regularization)<a name=\"reg\"></a>"
   ]
  },
  {
   "cell_type": "markdown",
   "metadata": {},
   "source": [
    "### L1 regularization"
   ]
  },
  {
   "cell_type": "markdown",
   "metadata": {},
   "source": [
    "Tối ưu hàm mất mát sau: $\\underset{\\theta,c}{min}\\frac{1}{2}\\theta^{T}\\theta+C\\displaystyle\\sum^{n}_{i=1}\\log(\\exp(-y_{i}(X_{i}^{T}\\theta+c))+1)$"
   ]
  },
  {
   "cell_type": "markdown",
   "metadata": {},
   "source": [
    "L1 loại bỏ các feature không quan trọng bằng cách cho $\\theta$ tương ứng về 0."
   ]
  },
  {
   "cell_type": "code",
   "execution_count": 30,
   "metadata": {},
   "outputs": [],
   "source": [
    "import matplotlib.pyplot as plt"
   ]
  },
  {
   "cell_type": "code",
   "execution_count": 31,
   "metadata": {},
   "outputs": [],
   "source": [
    "c_list = [0.12, 0.24, 0.48, 1.62, 2.88, 5.2, 10.12]\n",
    "l1_f1_train = []\n",
    "l1_f1_valid = []\n",
    "l1_f1_test = []\n",
    "for i in c_list:\n",
    "    lg = LogisticRegression(random_state=41,\n",
    "                        solver=\"liblinear\",\n",
    "                        C=i,\n",
    "                        penalty=\"l1\",\n",
    "                        max_iter=1000)\n",
    "    lg.fit(X_train_vec, y_train)\n",
    "    y_train_pred = lg.predict(X_train_vec)\n",
    "    y_valid_pred = lg.predict(X_valid_vec)\n",
    "    y_test_pred = lg.predict(X_test_vec)\n",
    "    l1_f1_train.append(f1_score(y_train, y_train_pred))\n",
    "    l1_f1_valid.append(f1_score(y_valid, y_valid_pred))\n",
    "    l1_f1_test.append(f1_score(y_test, y_test_pred))"
   ]
  },
  {
   "cell_type": "markdown",
   "metadata": {},
   "source": [
    "### L2 regularization"
   ]
  },
  {
   "cell_type": "markdown",
   "metadata": {},
   "source": [
    "Tối ưu hàm mất mát sau: $\\underset{\\theta,c}{min}\\lvert\\lvert{\\theta}\\rvert\\rvert_{1}+C\\displaystyle\\sum^{n}_{i=1}\\log(\\exp(-y_{i}(X_{i}^{T}\\theta+c))+1)$"
   ]
  },
  {
   "cell_type": "markdown",
   "metadata": {},
   "source": [
    "L2 giảm $\\theta$ của các feature không quan trọng về con số rất nhỏ."
   ]
  },
  {
   "cell_type": "code",
   "execution_count": 32,
   "metadata": {},
   "outputs": [],
   "source": [
    "c_list = [0.12, 0.24, 0.48, 1.62, 2.88, 5.2, 10.12]\n",
    "l2_f1_train = []\n",
    "l2_f1_valid = []\n",
    "l2_f1_test = []\n",
    "for i in c_list:\n",
    "    lg = LogisticRegression(random_state=41,\n",
    "                        solver=\"liblinear\",\n",
    "                        C=i,\n",
    "                        penalty=\"l2\",\n",
    "                        max_iter=1000)\n",
    "    lg.fit(X_train_vec, y_train)\n",
    "    y_train_pred = lg.predict(X_train_vec)\n",
    "    y_valid_pred = lg.predict(X_valid_vec)\n",
    "    y_test_pred = lg.predict(X_test_vec)\n",
    "    l2_f1_train.append(f1_score(y_train, y_train_pred))\n",
    "    l2_f1_valid.append(f1_score(y_valid, y_valid_pred))\n",
    "    l2_f1_test.append(f1_score(y_test, y_test_pred))"
   ]
  },
  {
   "cell_type": "code",
   "execution_count": 33,
   "metadata": {},
   "outputs": [
    {
     "data": {
      "text/plain": [
       "Text(0, 0.5, 'f1-score')"
      ]
     },
     "execution_count": 33,
     "metadata": {},
     "output_type": "execute_result"
    },
    {
     "data": {
      "image/png": "[encoded data removed]",
      "text/plain": [
       "<Figure size 432x288 with 1 Axes>"
      ]
     },
     "metadata": {
      "needs_background": "light"
     },
     "output_type": "display_data"
    }
   ],
   "source": [
    "plt.plot(c_list, l1_f1_train, label=\"l1 train\")\n",
    "plt.plot(c_list, l2_f1_train, label=\"l2 train\")\n",
    "plt.plot(c_list, l1_f1_valid, label=\"l1 valid\")\n",
    "plt.plot(c_list, l2_f1_valid, label=\"l2 valid\")\n",
    "plt.legend(loc=\"lower right\")\n",
    "plt.xlabel(\"C\")\n",
    "plt.ylabel(\"f1-score\")"
   ]
  },
  {
   "cell_type": "markdown",
   "metadata": {},
   "source": [
    "Cả hai phương pháp tốt nhất khi $C \\approx 1.8$ nhưng f1-score của L1 tốt hơn L2."
   ]
  },
  {
   "cell_type": "markdown",
   "metadata": {},
   "source": [
    "## 3.G. Xác thực (validating)<a name=\"valid\"></a>"
   ]
  },
  {
   "cell_type": "code",
   "execution_count": 34,
   "metadata": {},
   "outputs": [
    {
     "data": {
      "text/plain": [
       "LogisticRegression(C=1.8, class_weight=None, dual=False, fit_intercept=True,\n",
       "          intercept_scaling=1, max_iter=1000, multi_class='warn',\n",
       "          n_jobs=None, penalty='l1', random_state=41, solver='liblinear',\n",
       "          tol=0.0001, verbose=0, warm_start=False)"
      ]
     },
     "execution_count": 34,
     "metadata": {},
     "output_type": "execute_result"
    }
   ],
   "source": [
    "lg = LogisticRegression(random_state=41,\n",
    "                        solver=\"liblinear\",\n",
    "                        C=1.8,\n",
    "                        penalty=\"l1\",\n",
    "                        max_iter=1000)\n",
    "lg.fit(X_train_vec, y_train)"
   ]
  },
  {
   "cell_type": "code",
   "execution_count": 35,
   "metadata": {},
   "outputs": [],
   "source": [
    "y_train_pred = lg.predict(X_train_vec)\n",
    "y_valid_pred = lg.predict(X_valid_vec)\n",
    "y_test_pred = lg.predict(X_test_vec)"
   ]
  },
  {
   "cell_type": "code",
   "execution_count": 36,
   "metadata": {},
   "outputs": [
    {
     "name": "stdout",
     "output_type": "stream",
     "text": [
      "Train f1: 0.8545190913484775\n",
      "Train precision: 0.9434364994663821\n",
      "Train recall: 0.7809187279151943\n",
      "\n",
      "Valid f1: 0.7864823348694315\n",
      "Valid precision: 0.9343065693430657\n",
      "Valid recall: 0.6790450928381963\n",
      "\n",
      "Test f1: 0.8183161004431314\n",
      "Test precision: 0.9233333333333333\n",
      "Test recall: 0.7347480106100795\n"
     ]
    }
   ],
   "source": [
    "print(f\"Train f1: {f1_score(y_train, y_train_pred)}\")\n",
    "print(f\"Train precision: {precision_score(y_train, y_train_pred)}\")\n",
    "print(f\"Train recall: {recall_score(y_train, y_train_pred)}\")\n",
    "print(f\"\\nValid f1: {f1_score(y_valid, y_valid_pred)}\")\n",
    "print(f\"Valid precision: {precision_score(y_valid, y_valid_pred)}\")\n",
    "print(f\"Valid recall: {recall_score(y_valid, y_valid_pred)}\")\n",
    "print(f\"\\nTest f1: {f1_score(y_test, y_test_pred)}\")\n",
    "print(f\"Test precision: {precision_score(y_test, y_test_pred)}\")\n",
    "print(f\"Test recall: {recall_score(y_test, y_test_pred)}\")"
   ]
  },
  {
   "cell_type": "markdown",
   "metadata": {},
   "source": [
    "Kết quả trên train test spilt ta được 0.78 trên tập valid và 0.81 trên tập test."
   ]
  },
  {
   "cell_type": "code",
   "execution_count": 37,
   "metadata": {},
   "outputs": [],
   "source": [
    "from sklearn.model_selection import StratifiedKFold"
   ]
  },
  {
   "cell_type": "code",
   "execution_count": 38,
   "metadata": {},
   "outputs": [
    {
     "name": "stdout",
     "output_type": "stream",
     "text": [
      "[FOLD 1]\n",
      "Train f1: 0.8585178055822907\n",
      "Valid f1: 0.8168168168168168\n",
      "\n",
      "[FOLD 2]\n",
      "Train f1: 0.8561335902376365\n",
      "Valid f1: 0.8035190615835777\n",
      "\n",
      "[FOLD 3]\n",
      "Train f1: 0.8576010262989096\n",
      "Valid f1: 0.7964601769911505\n",
      "\n",
      "[FOLD 4]\n",
      "Train f1: 0.8557661419852233\n",
      "Valid f1: 0.7976539589442815\n",
      "\n",
      "[FOLD 5]\n",
      "Train f1: 0.8571428571428571\n",
      "Valid f1: 0.7833827893175075\n",
      "\n",
      "[FOLD 6]\n",
      "Train f1: 0.8595253367543297\n",
      "Valid f1: 0.8126801152737754\n",
      "\n",
      "[FOLD 7]\n",
      "Train f1: 0.8572347266881029\n",
      "Valid f1: 0.8093841642228738\n",
      "\n",
      "[FOLD 8]\n",
      "Train f1: 0.8540263073468078\n",
      "Valid f1: 0.8362573099415205\n",
      "\n",
      "[FOLD 9]\n",
      "Train f1: 0.8544812078380983\n",
      "Valid f1: 0.8255813953488371\n",
      "\n",
      "[FOLD 10]\n",
      "Train f1: 0.8531018964963034\n",
      "Valid f1: 0.8200589970501475\n",
      "\n"
     ]
    }
   ],
   "source": [
    "kX = vectorizer.transform(X.comment.values).toarray()\n",
    "skf = StratifiedKFold(n_splits=10)\n",
    "train_f1 = []\n",
    "valid_f1 = []\n",
    "for i, (train, valid) in enumerate(skf.split(kX, y)):\n",
    "    print(f\"[FOLD {i + 1}]\")\n",
    "    lg.fit(kX[train], y[train])\n",
    "    y_tp = lg.predict(kX[train])\n",
    "    y_vp = lg.predict(kX[valid])\n",
    "    train_f1.append(f1_score(y[train], y_tp))\n",
    "    valid_f1.append(f1_score(y[valid], y_vp))\n",
    "    print(f\"Train f1: {train_f1[-1]}\")\n",
    "    print(f\"Valid f1: {valid_f1[-1]}\\n\")"
   ]
  },
  {
   "cell_type": "code",
   "execution_count": 39,
   "metadata": {},
   "outputs": [
    {
     "name": "stdout",
     "output_type": "stream",
     "text": [
      "Mean train f1: 0.856353089637056 - Std train f1: 0.0019387705144729413\n",
      "Mean valid f1: 0.8101794785490488 - Std valid f1: 0.01474228194607023\n"
     ]
    }
   ],
   "source": [
    "print(f\"Mean train f1: {np.mean(train_f1)} - Std train f1: {np.std(train_f1)}\")\n",
    "print(f\"Mean valid f1: {np.mean(valid_f1)} - Std valid f1: {np.std(valid_f1)}\")"
   ]
  },
  {
   "cell_type": "markdown",
   "metadata": {},
   "source": [
    "Với 10-fold ta thấy kết quả mô hình là vào khoảng $0.81\\pm0.01$."
   ]
  },
  {
   "cell_type": "markdown",
   "metadata": {},
   "source": [
    "# (4) Diễn dịch mô hình<a name=\"interpret\"></a>"
   ]
  },
  {
   "cell_type": "code",
   "execution_count": 40,
   "metadata": {},
   "outputs": [
    {
     "data": {
      "text/plain": [
       "LogisticRegression(C=1.8, class_weight=None, dual=False, fit_intercept=True,\n",
       "          intercept_scaling=1, max_iter=1000, multi_class='warn',\n",
       "          n_jobs=None, penalty='l1', random_state=41, solver='liblinear',\n",
       "          tol=0.0001, verbose=0, warm_start=False)"
      ]
     },
     "execution_count": 40,
     "metadata": {},
     "output_type": "execute_result"
    }
   ],
   "source": [
    "X_f = vectorizer.transform(X.comment.values).toarray()\n",
    "lg.fit(X_f, y)"
   ]
  },
  {
   "cell_type": "code",
   "execution_count": 41,
   "metadata": {},
   "outputs": [
    {
     "name": "stdout",
     "output_type": "stream",
     "text": [
      "l1 giảm số feature từ 3000 còn 431\n"
     ]
    }
   ],
   "source": [
    "sum = 0\n",
    "for coef in lg.coef_[0]:\n",
    "    if coef != 0:\n",
    "        sum += 1\n",
    "print(f\"l1 giảm số feature từ {len(lg.coef_[0])} còn {sum}\")"
   ]
  },
  {
   "cell_type": "markdown",
   "metadata": {},
   "source": [
    "## 4.A. Odds<a name=\"odds\"></a>"
   ]
  },
  {
   "cell_type": "markdown",
   "metadata": {},
   "source": [
    "$\\text{odds} = \\frac{P(y=1)}{P(y=0)} = exp(\\sum_{i=0}^{n}\\theta_{i}x_{i})$"
   ]
  },
  {
   "cell_type": "markdown",
   "metadata": {},
   "source": [
    "Odds cho biết khả năng của một bình luận thuộc về lớp 1 cao hơn bao nhiêu lần so với lớp 0."
   ]
  },
  {
   "cell_type": "code",
   "execution_count": 42,
   "metadata": {},
   "outputs": [
    {
     "name": "stdout",
     "output_type": "stream",
     "text": [
      "[Bình luận] Từ nhỏ đến giờ tao chưa bao giờ ăn thịt chó:)))))) thề\n",
      "[odds] 0.041818680692752096\n",
      "\n",
      "[Bình luận] Dắt bọn này đi bảo vệ Nô khỏi bị cướp tiền, nhưng ko cẩn thận có khi lại mất chó kaka 😄😆😆😂😂\n",
      "[odds] 0.1618186649148505\n",
      "\n",
      "[Bình luận] H m thích gây war hả con chó\n",
      "[odds] 1.671775424168421\n",
      "\n"
     ]
    }
   ],
   "source": [
    "test_corp = {\"comment\": [\n",
    "    \"Từ nhỏ đến giờ tao chưa bao giờ ăn thịt chó:)))))) thề\", \n",
    "    \"Dắt bọn này đi bảo vệ Nô khỏi bị cướp tiền, nhưng ko cẩn thận có khi lại mất chó kaka 😄😆😆😂😂\", \n",
    "    \"H m thích gây war hả con chó\"]}\n",
    "test_df = pd.DataFrame(test_corp)\n",
    "test_df = preprocess_df(test_df)\n",
    "test_df_vec = vectorizer.transform(test_df.comment.values).toarray()\n",
    "\n",
    "p = lg.predict_proba(test_df_vec)\n",
    "odds = p[:, 1] / p[:, 0]\n",
    "\n",
    "for i, c in enumerate(test_corp[\"comment\"]):\n",
    "    print(f\"[Bình luận] {c}\\n[odds] {odds[i]}\\n\")"
   ]
  },
  {
   "cell_type": "markdown",
   "metadata": {},
   "source": [
    "Cả ba bình luận trên đều có từ chó, nhưng chỉ có bình luận thứ 3 là có ý công kích nên odd của nó cũng cao hơn hai bình luận còn lại."
   ]
  },
  {
   "cell_type": "markdown",
   "metadata": {},
   "source": [
    "## 4.B. Odds ratio<a name=\"odds-ratio\"></a>"
   ]
  },
  {
   "cell_type": "markdown",
   "metadata": {},
   "source": [
    "  $\\text{odds ratio} = \\frac{odds_{x_{i}+1}}{odds} = exp(\\theta_{j})$"
   ]
  },
  {
   "cell_type": "markdown",
   "metadata": {},
   "source": [
    "**odds ratio** của feature $x_{j}$ cho biết khả năng của bình luận thuộc về lớp 1 tăng thêm bao nhiêu nếu nó tăng thêm 1."
   ]
  },
  {
   "cell_type": "code",
   "execution_count": 43,
   "metadata": {},
   "outputs": [],
   "source": [
    "dic = {\"word\": vectorizer.get_feature_names(),\n",
    "       \"weight\": lg.coef_[0],\n",
    "       \"odds_ratio\": np.exp(lg.coef_[0])}\n",
    "table = pd.DataFrame(dic)"
   ]
  },
  {
   "cell_type": "code",
   "execution_count": 44,
   "metadata": {},
   "outputs": [
    {
     "data": {
      "text/html": [
       "<div>\n",
       "<style scoped>\n",
       "    .dataframe tbody tr th:only-of-type {\n",
       "        vertical-align: middle;\n",
       "    }\n",
       "\n",
       "    .dataframe tbody tr th {\n",
       "        vertical-align: top;\n",
       "    }\n",
       "\n",
       "    .dataframe thead th {\n",
       "        text-align: right;\n",
       "    }\n",
       "</style>\n",
       "<table border=\"1\" class=\"dataframe\">\n",
       "  <thead>\n",
       "    <tr style=\"text-align: right;\">\n",
       "      <th></th>\n",
       "      <th>word</th>\n",
       "      <th>weight</th>\n",
       "      <th>odds_ratio</th>\n",
       "    </tr>\n",
       "  </thead>\n",
       "  <tbody>\n",
       "    <tr>\n",
       "      <th>1214</th>\n",
       "      <td>lồn</td>\n",
       "      <td>25.421939</td>\n",
       "      <td>1.098014e+11</td>\n",
       "    </tr>\n",
       "    <tr>\n",
       "      <th>2822</th>\n",
       "      <td>đéo</td>\n",
       "      <td>17.290471</td>\n",
       "      <td>3.229656e+07</td>\n",
       "    </tr>\n",
       "    <tr>\n",
       "      <th>2916</th>\n",
       "      <td>địt</td>\n",
       "      <td>16.437255</td>\n",
       "      <td>1.375971e+07</td>\n",
       "    </tr>\n",
       "    <tr>\n",
       "      <th>2918</th>\n",
       "      <td>địt_mẹ</td>\n",
       "      <td>16.433529</td>\n",
       "      <td>1.370853e+07</td>\n",
       "    </tr>\n",
       "    <tr>\n",
       "      <th>568</th>\n",
       "      <td>cặc</td>\n",
       "      <td>15.409790</td>\n",
       "      <td>4.924778e+06</td>\n",
       "    </tr>\n",
       "  </tbody>\n",
       "</table>\n",
       "</div>"
      ],
      "text/plain": [
       "        word     weight    odds_ratio\n",
       "1214     lồn  25.421939  1.098014e+11\n",
       "2822     đéo  17.290471  3.229656e+07\n",
       "2916     địt  16.437255  1.375971e+07\n",
       "2918  địt_mẹ  16.433529  1.370853e+07\n",
       "568      cặc  15.409790  4.924778e+06"
      ]
     },
     "execution_count": 44,
     "metadata": {},
     "output_type": "execute_result"
    }
   ],
   "source": [
    "table.sort_values(by=[\"odds_ratio\"], axis=0, ascending=False).head()"
   ]
  },
  {
   "cell_type": "markdown",
   "metadata": {},
   "source": [
    "Ta thấy các từ chửi tục có odds ratio rất cao nên có thể kết luận mô hình đang làm đúng việc của nó."
   ]
  },
  {
   "cell_type": "code",
   "execution_count": 45,
   "metadata": {},
   "outputs": [
    {
     "data": {
      "text/plain": [
       "['lg.joblib']"
      ]
     },
     "execution_count": 45,
     "metadata": {},
     "output_type": "execute_result"
    }
   ],
   "source": [
    "from joblib import dump\n",
    "dump(lg, 'lg.joblib')"
   ]
  },
  {
   "cell_type": "markdown",
   "metadata": {},
   "source": [
    "# (5) Tham khảo<a name=\"ref\"></a>"
   ]
  },
  {
   "cell_type": "markdown",
   "metadata": {},
   "source": [
    "1. https://scikit-learn.org/stable/modules/feature_extraction.html#text-feature-extraction\n",
    "2. https://scikit-learn.org/stable/modules/linear_model.html#logistic-regression\n",
    "3. https://christophm.github.io/interpretable-ml-book/logistic.html"
   ]
  }
 ],
 "metadata": {
  "kernelspec": {
   "display_name": "Python 3",
   "language": "python",
   "name": "python3"
  },
  "language_info": {
   "codemirror_mode": {
    "name": "ipython",
    "version": 3
   },
   "file_extension": ".py",
   "mimetype": "text/x-python",
   "name": "python",
   "nbconvert_exporter": "python",
   "pygments_lexer": "ipython3",
   "version": "3.7.9"
  }
 },
 "nbformat": 4,
 "nbformat_minor": 4
}
